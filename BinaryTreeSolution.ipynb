{
 "cells": [
  {
   "cell_type": "markdown",
   "metadata": {},
   "source": [
    "# Finding if there is a root to sum path of a binary tree node"
   ]
  },
  {
   "cell_type": "markdown",
   "metadata": {},
   "source": [
    "## Creating a tree with only a root\n",
    "\n",
    "The code below creates a Node class and assigns a value to the node (the root), and thus creates a tree with only a root. The '__init__' function is executed when the class is initiated and assigns the values to the object (in this cass the Node) properties; the actual root which is the data and the left and right nodes of the tree. These are assigned the value 'None' as the purpose of the function is to be a tree with only a root. "
   ]
  },
  {
   "cell_type": "code",
   "execution_count": 5,
   "metadata": {},
   "outputs": [],
   "source": [
    "class Node:\n",
    "    \"\"\"Creating a Node Class and assigning a value to the Node, this becomes a tree with only the root\"\"\"\n",
    "    def __init__(self, data):\n",
    "        self.data = data #assigns a value to the node\n",
    "        self.left = None\n",
    "        self.right = None\n",
    "\n",
    "\n",
    "\n"
   ]
  },
  {
   "cell_type": "markdown",
   "metadata": {},
   "source": [
    "### Strategy\n",
    "Given a tree and a sum, return true if there is a path from the root down to a leaf, such that adding up all the values along the path equals the given sum.\n",
    "\n",
    "\n",
    "The strategy is going down the tree, subtract the node value (the leaves) from the sum (the root) and check to see if the sum is 0 having reached the final node. "
   ]
  },
  {
   "cell_type": "code",
   "execution_count": null,
   "metadata": {},
   "outputs": [],
   "source": [
    "def hasPathSum(node, s): #s is the total sum \n",
    "    ans = 0\n",
    "    sub = s - node.data\n",
    "\n",
    "    #checks to see if total subtraction is 0 and there are no more leaves\n",
    "    if(sub == 0 and node.left == None and node.right == None): \n",
    "        return True\n",
    "\n",
    "    # Otherwise check both subtrees\n",
    "    if node.left is not None:\n",
    "        ans = ans or hasPathSum(node.left, sub)\n",
    "    if node.right is not None:\n",
    "        ans = ans or hasPathSum(node.right, sub)\n",
    "\n",
    "    return ans\n",
    "\n"
   ]
  },
  {
   "cell_type": "code",
   "execution_count": 4,
   "metadata": {},
   "outputs": [
    {
     "name": "stdout",
     "output_type": "stream",
     "text": [
      "There is a root-to-leaf path with sum 21\n"
     ]
    }
   ],
   "source": [
    "##Test Code\n",
    "s = 21\n",
    "root = Node(10)\n",
    "\n",
    "#left and right nodes \n",
    "root.left = Node(8) \n",
    "root.right = Node(2)\n",
    "root.left.right = Node(5)\n",
    "root.left.left = Node(3)\n",
    "root.right.left = Node(2)\n",
    "\n",
    "if hasPathSum(root, s):\n",
    "    print(\"There is a root-to-leaf path with sum %d\" % (s))\n",
    "else:\n",
    "    print(\"There is no root-to-leaf path with sum %d\" % (s))\n",
    "\n"
   ]
  },
  {
   "cell_type": "code",
   "execution_count": null,
   "metadata": {},
   "outputs": [],
   "source": []
  }
 ],
 "metadata": {
  "kernelspec": {
   "display_name": "Python 3",
   "language": "python",
   "name": "python3"
  },
  "language_info": {
   "codemirror_mode": {
    "name": "ipython",
    "version": 3
   },
   "file_extension": ".py",
   "mimetype": "text/x-python",
   "name": "python",
   "nbconvert_exporter": "python",
   "pygments_lexer": "ipython3",
   "version": "3.8.3"
  }
 },
 "nbformat": 4,
 "nbformat_minor": 4
}
